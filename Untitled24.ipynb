{
 "cells": [
  {
   "cell_type": "code",
   "execution_count": 87,
   "id": "56807776-5eb9-4027-99b0-b64e5fcca5dc",
   "metadata": {},
   "outputs": [],
   "source": [
    "import pandas as pd"
   ]
  },
  {
   "cell_type": "code",
   "execution_count": 88,
   "id": "10715ee7-798c-4b4d-9521-c66b0de8a10b",
   "metadata": {},
   "outputs": [],
   "source": [
    "file_path = r\"C:\\Users\\USER\\Documents\\Transformation_Life.xlsx\""
   ]
  },
  {
   "cell_type": "code",
   "execution_count": 89,
   "id": "23abf082-a6b8-42ed-82e6-8097bb3edcfe",
   "metadata": {},
   "outputs": [],
   "source": [
    "df = pd.read_excel(file_path)"
   ]
  },
  {
   "cell_type": "code",
   "execution_count": 90,
   "id": "68d3dec9-1be3-4c44-8209-48abfac6c77b",
   "metadata": {},
   "outputs": [
    {
     "name": "stdout",
     "output_type": "stream",
     "text": [
      "       Country  Year      Status  Life_Expectancy  Sqrt_Adult_Mortality  \\\n",
      "0  Afghanistan  2015  Developing             75.6             16.217275   \n",
      "1  Afghanistan  2014  Developing             75.4             16.462078   \n",
      "2  Afghanistan  2013  Developing             75.2             16.370706   \n",
      "3  Afghanistan  2012  Developing             75.0             16.492423   \n",
      "4  Afghanistan  2011  Developing             74.9             16.583124   \n",
      "\n",
      "   Sqrt_Infant_death  Sqrt_Alcohol  Sqrt_Hepatitis B  Sqrt_BMI  Sqrt_Polio  \\\n",
      "0           7.874008           0.1          8.062258  4.370355    2.449490   \n",
      "1           8.000000           0.1          7.874008  4.312772    7.615773   \n",
      "2           8.124038           0.1          8.000000  4.254409    7.874008   \n",
      "3           8.306624           0.1          8.185353  4.195235    8.185353   \n",
      "4           8.426150           0.1          8.246211  4.147288    8.246211   \n",
      "\n",
      "   Sqrt_Total_Expenditure  Sqrt_Diphteria  Sqrt_HIV/AIDS   Sqrt_GDP  \\\n",
      "0                2.856571        8.062258       0.316228  24.171454   \n",
      "1                2.860070        7.874008       0.316228  24.752707   \n",
      "2                2.851315        8.000000       0.316228  25.134538   \n",
      "3                2.918904        8.185353       0.316228  25.883566   \n",
      "4                2.805352        8.246211       0.316228   7.971024   \n",
      "\n",
      "   Sqrt_Schooling  \n",
      "0        3.178050  \n",
      "1        3.162278  \n",
      "2        3.146427  \n",
      "3        3.130495  \n",
      "4        3.082207  \n"
     ]
    }
   ],
   "source": [
    "print(df.head())"
   ]
  },
  {
   "cell_type": "code",
   "execution_count": 38,
   "id": "c0beef7e-fddf-40e4-81d4-8e944c1b8990",
   "metadata": {},
   "outputs": [
    {
     "name": "stdout",
     "output_type": "stream",
     "text": [
      "              Year  Life_Expectancy  Sqrt_Adult_Mortality  Sqrt_Infant_death  \\\n",
      "count  2938.000000      2938.000000           2938.000000        2938.000000   \n",
      "mean   2007.518720        60.137400             11.839766           3.184595   \n",
      "std       4.613841         1.481427              4.962336           4.491010   \n",
      "min    2000.000000        43.800000              1.000000           0.000000   \n",
      "25%    2004.000000        60.140000              8.602325           0.000000   \n",
      "50%    2008.000000        60.140000             12.000000           1.732051   \n",
      "75%    2012.000000        60.140000             15.066519           4.690416   \n",
      "max    2015.000000        75.600000             26.888659          42.426407   \n",
      "\n",
      "       Sqrt_Alcohol  Sqrt_Hepatitis B     Sqrt_BMI   Sqrt_Polio  \\\n",
      "count   2938.000000       2938.000000  2938.000000  2938.000000   \n",
      "mean       1.863633          8.832678     5.905719     8.914974   \n",
      "std        1.062982          1.710312     1.855977     1.753419   \n",
      "min        0.100000          1.000000     1.000000     1.732051   \n",
      "25%        1.045225          8.996666     4.404543     8.831761   \n",
      "50%        2.039608          9.327379     6.557439     9.643651   \n",
      "75%        2.718455          9.797959     7.489993     9.848858   \n",
      "max        4.227292          9.949874     9.343447     9.949874   \n",
      "\n",
      "       Sqrt_Total_Expenditure  Sqrt_Diphteria  Sqrt_HIV/AIDS     Sqrt_GDP  \\\n",
      "count             2938.000000     2938.000000    2938.000000  2938.000000   \n",
      "mean                 2.374074        8.898271       0.830249    66.545291   \n",
      "std                  0.505997        1.773668       1.026230    55.280459   \n",
      "min                  0.608276        1.414214       0.316228     1.296669   \n",
      "25%                  2.090454        8.831761       0.316228    24.093282   \n",
      "50%                  2.353720        9.643651       0.316228    55.826168   \n",
      "75%                  2.707397        9.848858       0.894427    86.505491   \n",
      "max                  4.195235        9.949874       7.113368   345.214052   \n",
      "\n",
      "       Sqrt_Schooling  \n",
      "count     2938.000000  \n",
      "mean         3.415603  \n",
      "std          0.571319  \n",
      "min          0.000000  \n",
      "25%          3.209361  \n",
      "50%          3.478505  \n",
      "75%          3.754997  \n",
      "max          4.549725  \n"
     ]
    }
   ],
   "source": [
    "print(df.describe())"
   ]
  },
  {
   "cell_type": "code",
   "execution_count": 91,
   "id": "915081cb-6855-4284-b734-f444707ac90e",
   "metadata": {},
   "outputs": [],
   "source": [
    "df['Status_Code'] = df['Status'].map({'Developed': 1, 'Developing': 0})\n"
   ]
  },
  {
   "cell_type": "code",
   "execution_count": 92,
   "id": "b9474464-b4f2-4c4e-8b62-919f28ea159c",
   "metadata": {},
   "outputs": [],
   "source": [
    "df.drop(columns='Status', inplace=True)"
   ]
  },
  {
   "cell_type": "code",
   "execution_count": 93,
   "id": "4437d8b7-797d-47a8-bde9-fae1f3a7a267",
   "metadata": {},
   "outputs": [
    {
     "data": {
      "text/html": [
       "<div>\n",
       "<style scoped>\n",
       "    .dataframe tbody tr th:only-of-type {\n",
       "        vertical-align: middle;\n",
       "    }\n",
       "\n",
       "    .dataframe tbody tr th {\n",
       "        vertical-align: top;\n",
       "    }\n",
       "\n",
       "    .dataframe thead th {\n",
       "        text-align: right;\n",
       "    }\n",
       "</style>\n",
       "<table border=\"1\" class=\"dataframe\">\n",
       "  <thead>\n",
       "    <tr style=\"text-align: right;\">\n",
       "      <th></th>\n",
       "      <th>Country</th>\n",
       "      <th>Year</th>\n",
       "      <th>Life_Expectancy</th>\n",
       "      <th>Sqrt_Adult_Mortality</th>\n",
       "      <th>Sqrt_Infant_death</th>\n",
       "      <th>Sqrt_Alcohol</th>\n",
       "      <th>Sqrt_Hepatitis B</th>\n",
       "      <th>Sqrt_BMI</th>\n",
       "      <th>Sqrt_Polio</th>\n",
       "      <th>Sqrt_Total_Expenditure</th>\n",
       "      <th>Sqrt_Diphteria</th>\n",
       "      <th>Sqrt_HIV/AIDS</th>\n",
       "      <th>Sqrt_GDP</th>\n",
       "      <th>Sqrt_Schooling</th>\n",
       "      <th>Status_Code</th>\n",
       "    </tr>\n",
       "  </thead>\n",
       "  <tbody>\n",
       "    <tr>\n",
       "      <th>0</th>\n",
       "      <td>Afghanistan</td>\n",
       "      <td>2015</td>\n",
       "      <td>75.6</td>\n",
       "      <td>16.217275</td>\n",
       "      <td>7.874008</td>\n",
       "      <td>0.1</td>\n",
       "      <td>8.062258</td>\n",
       "      <td>4.370355</td>\n",
       "      <td>2.449490</td>\n",
       "      <td>2.856571</td>\n",
       "      <td>8.062258</td>\n",
       "      <td>0.316228</td>\n",
       "      <td>24.171454</td>\n",
       "      <td>3.178050</td>\n",
       "      <td>0</td>\n",
       "    </tr>\n",
       "    <tr>\n",
       "      <th>1</th>\n",
       "      <td>Afghanistan</td>\n",
       "      <td>2014</td>\n",
       "      <td>75.4</td>\n",
       "      <td>16.462078</td>\n",
       "      <td>8.000000</td>\n",
       "      <td>0.1</td>\n",
       "      <td>7.874008</td>\n",
       "      <td>4.312772</td>\n",
       "      <td>7.615773</td>\n",
       "      <td>2.860070</td>\n",
       "      <td>7.874008</td>\n",
       "      <td>0.316228</td>\n",
       "      <td>24.752707</td>\n",
       "      <td>3.162278</td>\n",
       "      <td>0</td>\n",
       "    </tr>\n",
       "    <tr>\n",
       "      <th>2</th>\n",
       "      <td>Afghanistan</td>\n",
       "      <td>2013</td>\n",
       "      <td>75.2</td>\n",
       "      <td>16.370706</td>\n",
       "      <td>8.124038</td>\n",
       "      <td>0.1</td>\n",
       "      <td>8.000000</td>\n",
       "      <td>4.254409</td>\n",
       "      <td>7.874008</td>\n",
       "      <td>2.851315</td>\n",
       "      <td>8.000000</td>\n",
       "      <td>0.316228</td>\n",
       "      <td>25.134538</td>\n",
       "      <td>3.146427</td>\n",
       "      <td>0</td>\n",
       "    </tr>\n",
       "    <tr>\n",
       "      <th>3</th>\n",
       "      <td>Afghanistan</td>\n",
       "      <td>2012</td>\n",
       "      <td>75.0</td>\n",
       "      <td>16.492423</td>\n",
       "      <td>8.306624</td>\n",
       "      <td>0.1</td>\n",
       "      <td>8.185353</td>\n",
       "      <td>4.195235</td>\n",
       "      <td>8.185353</td>\n",
       "      <td>2.918904</td>\n",
       "      <td>8.185353</td>\n",
       "      <td>0.316228</td>\n",
       "      <td>25.883566</td>\n",
       "      <td>3.130495</td>\n",
       "      <td>0</td>\n",
       "    </tr>\n",
       "    <tr>\n",
       "      <th>4</th>\n",
       "      <td>Afghanistan</td>\n",
       "      <td>2011</td>\n",
       "      <td>74.9</td>\n",
       "      <td>16.583124</td>\n",
       "      <td>8.426150</td>\n",
       "      <td>0.1</td>\n",
       "      <td>8.246211</td>\n",
       "      <td>4.147288</td>\n",
       "      <td>8.246211</td>\n",
       "      <td>2.805352</td>\n",
       "      <td>8.246211</td>\n",
       "      <td>0.316228</td>\n",
       "      <td>7.971024</td>\n",
       "      <td>3.082207</td>\n",
       "      <td>0</td>\n",
       "    </tr>\n",
       "  </tbody>\n",
       "</table>\n",
       "</div>"
      ],
      "text/plain": [
       "       Country  Year  Life_Expectancy  Sqrt_Adult_Mortality  \\\n",
       "0  Afghanistan  2015             75.6             16.217275   \n",
       "1  Afghanistan  2014             75.4             16.462078   \n",
       "2  Afghanistan  2013             75.2             16.370706   \n",
       "3  Afghanistan  2012             75.0             16.492423   \n",
       "4  Afghanistan  2011             74.9             16.583124   \n",
       "\n",
       "   Sqrt_Infant_death  Sqrt_Alcohol  Sqrt_Hepatitis B  Sqrt_BMI  Sqrt_Polio  \\\n",
       "0           7.874008           0.1          8.062258  4.370355    2.449490   \n",
       "1           8.000000           0.1          7.874008  4.312772    7.615773   \n",
       "2           8.124038           0.1          8.000000  4.254409    7.874008   \n",
       "3           8.306624           0.1          8.185353  4.195235    8.185353   \n",
       "4           8.426150           0.1          8.246211  4.147288    8.246211   \n",
       "\n",
       "   Sqrt_Total_Expenditure  Sqrt_Diphteria  Sqrt_HIV/AIDS   Sqrt_GDP  \\\n",
       "0                2.856571        8.062258       0.316228  24.171454   \n",
       "1                2.860070        7.874008       0.316228  24.752707   \n",
       "2                2.851315        8.000000       0.316228  25.134538   \n",
       "3                2.918904        8.185353       0.316228  25.883566   \n",
       "4                2.805352        8.246211       0.316228   7.971024   \n",
       "\n",
       "   Sqrt_Schooling  Status_Code  \n",
       "0        3.178050            0  \n",
       "1        3.162278            0  \n",
       "2        3.146427            0  \n",
       "3        3.130495            0  \n",
       "4        3.082207            0  "
      ]
     },
     "metadata": {},
     "output_type": "display_data"
    }
   ],
   "source": [
    "display(df.head())"
   ]
  },
  {
   "cell_type": "code",
   "execution_count": 94,
   "id": "05a0ab11-c8b1-480b-9c46-138c555c0d2e",
   "metadata": {},
   "outputs": [
    {
     "name": "stdout",
     "output_type": "stream",
     "text": [
      "           VIF                variable\n",
      "0     1.471411    Sqrt_Adult_Mortality\n",
      "1     1.316171       Sqrt_Infant_death\n",
      "2     1.534258            Sqrt_Alcohol\n",
      "3     1.278137        Sqrt_Hepatitis B\n",
      "4     1.400886                Sqrt_BMI\n",
      "5     1.595566              Sqrt_Polio\n",
      "6     1.134228  Sqrt_Total_Expenditure\n",
      "7     1.778392          Sqrt_Diphteria\n",
      "8     1.485026           Sqrt_HIV/AIDS\n",
      "9     1.479847                Sqrt_GDP\n",
      "10    1.618396          Sqrt_Schooling\n",
      "11    1.651281             Status_Code\n",
      "12  133.081673                   const\n"
     ]
    }
   ],
   "source": [
    "X = df[['Sqrt_Adult_Mortality','Sqrt_Infant_death','Sqrt_Alcohol','Sqrt_Hepatitis B','Sqrt_BMI','Sqrt_Polio','Sqrt_Total_Expenditure','Sqrt_Diphteria','Sqrt_HIV/AIDS','Sqrt_GDP','Sqrt_Schooling','Status_Code']].dropna()\n",
    "X['const'] = 1\n",
    "vif_data = pd.DataFrame()\n",
    "vif_data[\"VIF\"] = [variance_inflation_factor(X.values, i) for i in range(X.shape[1])]\n",
    "vif_data[\"variable\"] = X.columns\n",
    "print(vif_data)"
   ]
  },
  {
   "cell_type": "code",
   "execution_count": 100,
   "id": "031d35b4-f1f8-495b-be76-8299f33a7a7f",
   "metadata": {},
   "outputs": [],
   "source": [
    "df_panel = df.copy()\n",
    "df_panel = df_panel.rename(columns={'Sqrt_HIV/AIDS': 'Sqrt_HIV_AIDS','Sqrt_Hepatitis B':'Sqrt_Hepatitis_B'})  \n",
    "df_panel = df_panel.set_index(['Country', 'Year'])  "
   ]
  },
  {
   "cell_type": "code",
   "execution_count": 101,
   "id": "783f9ef1-6e52-4b57-8e8d-041243ab4139",
   "metadata": {},
   "outputs": [],
   "source": [
    "formula = (\n",
    "    'Life_Expectancy~ Sqrt_Adult_Mortality + Sqrt_Infant_death + '\n",
    "    'Sqrt_Alcohol + Sqrt_Hepatitis_B + Sqrt_BMI + Sqrt_Polio + '\n",
    "    'Sqrt_Total_Expenditure + Sqrt_Diphteria + Sqrt_HIV_AIDS + '\n",
    "    'Sqrt_GDP + Sqrt_Schooling + Status_Code'\n",
    ")"
   ]
  },
  {
   "cell_type": "code",
   "execution_count": 102,
   "id": "2859394e-7e0c-4215-8876-298201dfee75",
   "metadata": {},
   "outputs": [
    {
     "name": "stdout",
     "output_type": "stream",
     "text": [
      "Index(['Life_Expectancy', 'Sqrt_Adult_Mortality', 'Sqrt_Infant_death',\n",
      "       'Sqrt_Alcohol', 'Sqrt_Hepatitis_B', 'Sqrt_BMI', 'Sqrt_Polio',\n",
      "       'Sqrt_Total_Expenditure', 'Sqrt_Diphteria', 'Sqrt_HIV_AIDS', 'Sqrt_GDP',\n",
      "       'Sqrt_Schooling', 'Status_Code'],\n",
      "      dtype='object')\n"
     ]
    }
   ],
   "source": [
    "print(df_panel.columns)"
   ]
  },
  {
   "cell_type": "code",
   "execution_count": 103,
   "id": "7f07a790-bfed-4b20-917b-bbd4bbff9d32",
   "metadata": {},
   "outputs": [],
   "source": [
    "df_panel = df_panel.rename(columns={'Life_ Expectancy': 'Life_Expectancy'})"
   ]
  },
  {
   "cell_type": "code",
   "execution_count": 104,
   "id": "78ccfc7c-0f8f-4802-97f9-b65b244051b7",
   "metadata": {},
   "outputs": [],
   "source": [
    "from linearmodels.panel import PanelOLS\n"
   ]
  },
  {
   "cell_type": "code",
   "execution_count": 106,
   "id": "1e587aca-de40-4578-8914-266e7bcfbab0",
   "metadata": {},
   "outputs": [
    {
     "name": "stdout",
     "output_type": "stream",
     "text": [
      "                          PanelOLS Estimation Summary                           \n",
      "================================================================================\n",
      "Dep. Variable:        Life_Expectancy   R-squared:                        0.0041\n",
      "Estimator:                   PanelOLS   R-squared (Between):              0.0097\n",
      "No. Observations:                2938   R-squared (Within):               0.0041\n",
      "Date:                Mon, Jun 02 2025   R-squared (Overall):              0.0096\n",
      "Time:                        22:06:22   Log-likelihood                   -3185.9\n",
      "Cov. Estimator:            Unadjusted                                           \n",
      "                                        F-statistic:                      1.0309\n",
      "Entities:                         193   P-value                           0.4156\n",
      "Avg Obs:                       15.223   Distribution:                 F(11,2734)\n",
      "Min Obs:                       1.0000                                           \n",
      "Max Obs:                       16.000   F-statistic (robust):             1.0309\n",
      "                                        P-value                           0.4156\n",
      "Time periods:                      16   Distribution:                 F(11,2734)\n",
      "Avg Obs:                       183.62                                           \n",
      "Min Obs:                       183.00                                           \n",
      "Max Obs:                       193.00                                           \n",
      "                                                                                \n",
      "                                   Parameter Estimates                                    \n",
      "==========================================================================================\n",
      "                        Parameter  Std. Err.     T-stat    P-value    Lower CI    Upper CI\n",
      "------------------------------------------------------------------------------------------\n",
      "Sqrt_Adult_Mortality      -0.0039     0.0039    -0.9834     0.3255     -0.0115      0.0038\n",
      "Sqrt_Infant_death         -0.0142     0.0290    -0.4892     0.6247     -0.0710      0.0426\n",
      "Sqrt_Alcohol              -0.0290     0.0288    -1.0083     0.3134     -0.0854      0.0274\n",
      "Sqrt_Hepatitis_B           0.0119     0.0100     1.1849     0.2362     -0.0078      0.0315\n",
      "Sqrt_BMI                   0.0117     0.0108     1.0836     0.2786     -0.0095      0.0329\n",
      "Sqrt_Polio                -0.0146     0.0106    -1.3836     0.1666     -0.0354      0.0061\n",
      "Sqrt_Total_Expenditure     0.0401     0.0395     1.0173     0.3091     -0.0372      0.1175\n",
      "Sqrt_Diphteria             0.0147     0.0113     1.3012     0.1933     -0.0075      0.0369\n",
      "Sqrt_HIV_AIDS              0.0083     0.0415     0.1995     0.8419     -0.0730      0.0896\n",
      "Sqrt_GDP                5.109e-05     0.0004     0.1265     0.8993     -0.0007      0.0008\n",
      "Sqrt_Schooling             0.0449     0.0523     0.8577     0.3912     -0.0577      0.1475\n",
      "==========================================================================================\n",
      "\n",
      "F-test for Poolability: 45.445\n",
      "P-value: 0.0000\n",
      "Distribution: F(192,2734)\n",
      "\n",
      "Included effects: Entity\n"
     ]
    }
   ],
   "source": [
    "formula = (\n",
    "    'Life_Expectancy ~ Sqrt_Adult_Mortality + Sqrt_Infant_death + '\n",
    "    'Sqrt_Alcohol + Sqrt_Hepatitis_B + Sqrt_BMI + Sqrt_Polio + '\n",
    "    'Sqrt_Total_Expenditure + Sqrt_Diphteria + Sqrt_HIV_AIDS + '\n",
    "    'Sqrt_GDP + Sqrt_Schooling '\n",
    ")\n",
    "\n",
    "# Fit the Fixed Effects model\n",
    "fe_model = PanelOLS.from_formula(formula + ' + EntityEffects', data=df_panel)\n",
    "fe_results = fe_model.fit()\n",
    "print(fe_results.summary)"
   ]
  },
  {
   "cell_type": "code",
   "execution_count": 107,
   "id": "996f0f98-8fa5-4baf-966d-101dcaa0c963",
   "metadata": {},
   "outputs": [],
   "source": [
    "from linearmodels.panel import RandomEffects"
   ]
  },
  {
   "cell_type": "code",
   "execution_count": 108,
   "id": "595a71bd-a1e2-4149-ac7e-cfb08369fd07",
   "metadata": {},
   "outputs": [
    {
     "name": "stdout",
     "output_type": "stream",
     "text": [
      "                        RandomEffects Estimation Summary                        \n",
      "================================================================================\n",
      "Dep. Variable:        Life_Expectancy   R-squared:                        0.4852\n",
      "Estimator:              RandomEffects   R-squared (Between):              0.7506\n",
      "No. Observations:                2938   R-squared (Within):              -4.3014\n",
      "Date:                Mon, Jun 02 2025   R-squared (Overall):              0.7555\n",
      "Time:                        22:08:17   Log-likelihood                   -6543.8\n",
      "Cov. Estimator:            Unadjusted                                           \n",
      "                                        F-statistic:                      250.77\n",
      "Entities:                         193   P-value                           0.0000\n",
      "Avg Obs:                       15.223   Distribution:                 F(11,2927)\n",
      "Min Obs:                       1.0000                                           \n",
      "Max Obs:                       16.000   F-statistic (robust):             250.77\n",
      "                                        P-value                           0.0000\n",
      "Time periods:                      16   Distribution:                 F(11,2927)\n",
      "Avg Obs:                       183.62                                           \n",
      "Min Obs:                       183.00                                           \n",
      "Max Obs:                       193.00                                           \n",
      "                                                                                \n",
      "                                   Parameter Estimates                                    \n",
      "==========================================================================================\n",
      "                        Parameter  Std. Err.     T-stat    P-value    Lower CI    Upper CI\n",
      "------------------------------------------------------------------------------------------\n",
      "Sqrt_Adult_Mortality       0.0769     0.0118     6.5416     0.0000      0.0539      0.1000\n",
      "Sqrt_Infant_death          1.3387     0.0754     17.745     0.0000      1.1908      1.4867\n",
      "Sqrt_Alcohol               0.4521     0.0862     5.2479     0.0000      0.2832      0.6211\n",
      "Sqrt_Hepatitis_B           0.2404     0.0300     8.0197     0.0000      0.1816      0.2992\n",
      "Sqrt_BMI                   0.2685     0.0323     8.3096     0.0000      0.2052      0.3319\n",
      "Sqrt_Polio                 0.2224     0.0317     7.0119     0.0000      0.1602      0.2846\n",
      "Sqrt_Total_Expenditure     1.5039     0.1159     12.971     0.0000      1.2766      1.7312\n",
      "Sqrt_Diphteria             0.1692     0.0342     4.9511     0.0000      0.1022      0.2362\n",
      "Sqrt_HIV_AIDS              0.4766     0.1240     3.8426     0.0001      0.2334      0.7197\n",
      "Sqrt_GDP                   0.0018     0.0012     1.4813     0.1386     -0.0006      0.0042\n",
      "Sqrt_Schooling             3.9962     0.1373     29.101     0.0000      3.7269      4.2654\n",
      "==========================================================================================\n"
     ]
    }
   ],
   "source": [
    "formula = (\n",
    "    'Life_Expectancy ~ Sqrt_Adult_Mortality + Sqrt_Infant_death + '\n",
    "    'Sqrt_Alcohol + Sqrt_Hepatitis_B + Sqrt_BMI + Sqrt_Polio + '\n",
    "    'Sqrt_Total_Expenditure + Sqrt_Diphteria + Sqrt_HIV_AIDS + '\n",
    "    'Sqrt_GDP + Sqrt_Schooling'\n",
    ")\n",
    "\n",
    "# Fit the Random Effects model\n",
    "re_model = RandomEffects.from_formula(formula, data=df_panel)\n",
    "re_results = re_model.fit()\n",
    "print(re_results.summary)"
   ]
  },
  {
   "cell_type": "code",
   "execution_count": 109,
   "id": "dea336c5-b552-4e82-b350-cef2574bbbd7",
   "metadata": {},
   "outputs": [],
   "source": [
    "from linearmodels.panel import compare"
   ]
  },
  {
   "cell_type": "code",
   "execution_count": 110,
   "id": "c4da9342-135a-4f7d-9d9f-99915e966d52",
   "metadata": {},
   "outputs": [
    {
     "name": "stdout",
     "output_type": "stream",
     "text": [
      "                         Model Comparison                         \n",
      "==================================================================\n",
      "                                 Fixed Effects      Random Effects\n",
      "------------------------------------------------------------------\n",
      "Dep. Variable                  Life_Expectancy     Life_Expectancy\n",
      "Estimator                             PanelOLS       RandomEffects\n",
      "No. Observations                          2938                2938\n",
      "Cov. Est.                           Unadjusted          Unadjusted\n",
      "R-squared                               0.0041              0.4852\n",
      "R-Squared (Within)                      0.0041             -4.3014\n",
      "R-Squared (Between)                     0.0097              0.7506\n",
      "R-Squared (Overall)                     0.0096              0.7555\n",
      "F-statistic                             1.0309              250.77\n",
      "P-value (F-stat)                        0.4156              0.0000\n",
      "========================     =================   =================\n",
      "Sqrt_Adult_Mortality                   -0.0039              0.0769\n",
      "                                     (-0.9834)            (6.5416)\n",
      "Sqrt_Infant_death                      -0.0142              1.3387\n",
      "                                     (-0.4892)            (17.745)\n",
      "Sqrt_Alcohol                           -0.0290              0.4521\n",
      "                                     (-1.0083)            (5.2479)\n",
      "Sqrt_Hepatitis_B                        0.0119              0.2404\n",
      "                                      (1.1849)            (8.0197)\n",
      "Sqrt_BMI                                0.0117              0.2685\n",
      "                                      (1.0836)            (8.3096)\n",
      "Sqrt_Polio                             -0.0146              0.2224\n",
      "                                     (-1.3836)            (7.0119)\n",
      "Sqrt_Total_Expenditure                  0.0401              1.5039\n",
      "                                      (1.0173)            (12.971)\n",
      "Sqrt_Diphteria                          0.0147              0.1692\n",
      "                                      (1.3012)            (4.9511)\n",
      "Sqrt_HIV_AIDS                           0.0083              0.4766\n",
      "                                      (0.1995)            (3.8426)\n",
      "Sqrt_GDP                             5.109e-05              0.0018\n",
      "                                      (0.1265)            (1.4813)\n",
      "Sqrt_Schooling                          0.0449              3.9962\n",
      "                                      (0.8577)            (29.101)\n",
      "========================== =================== ===================\n",
      "Effects                                 Entity                    \n",
      "------------------------------------------------------------------\n",
      "\n",
      "T-stats reported in parentheses\n"
     ]
    }
   ],
   "source": [
    "comparison = compare({'Fixed Effects': fe_results, 'Random Effects': re_results})\n",
    "print(comparison)"
   ]
  },
  {
   "cell_type": "code",
   "execution_count": 111,
   "id": "0695dc80-2164-47fa-9f86-c373d44b42cc",
   "metadata": {},
   "outputs": [
    {
     "name": "stdout",
     "output_type": "stream",
     "text": [
      "                        RandomEffects Estimation Summary                        \n",
      "================================================================================\n",
      "Dep. Variable:        Life_Expectancy   R-squared:                        0.4852\n",
      "Estimator:              RandomEffects   R-squared (Between):              0.7506\n",
      "No. Observations:                2938   R-squared (Within):              -4.3014\n",
      "Date:                Mon, Jun 02 2025   R-squared (Overall):              0.7555\n",
      "Time:                        22:17:56   Log-likelihood                   -6543.8\n",
      "Cov. Estimator:             Clustered                                           \n",
      "                                        F-statistic:                      250.77\n",
      "Entities:                         193   P-value                           0.0000\n",
      "Avg Obs:                       15.223   Distribution:                 F(11,2927)\n",
      "Min Obs:                       1.0000                                           \n",
      "Max Obs:                       16.000   F-statistic (robust):             96.340\n",
      "                                        P-value                           0.0000\n",
      "Time periods:                      16   Distribution:                 F(11,2927)\n",
      "Avg Obs:                       183.62                                           \n",
      "Min Obs:                       183.00                                           \n",
      "Max Obs:                       193.00                                           \n",
      "                                                                                \n",
      "                                   Parameter Estimates                                    \n",
      "==========================================================================================\n",
      "                        Parameter  Std. Err.     T-stat    P-value    Lower CI    Upper CI\n",
      "------------------------------------------------------------------------------------------\n",
      "Sqrt_Adult_Mortality       0.0769     0.0149     5.1739     0.0000      0.0478      0.1061\n",
      "Sqrt_Infant_death          1.3387     0.3488     3.8376     0.0001      0.6547      2.0227\n",
      "Sqrt_Alcohol               0.4521     0.1336     3.3834     0.0007      0.1901      0.7141\n",
      "Sqrt_Hepatitis_B           0.2404     0.0389     6.1813     0.0000      0.1642      0.3167\n",
      "Sqrt_BMI                   0.2685     0.0344     7.8133     0.0000      0.2011      0.3359\n",
      "Sqrt_Polio                 0.2224     0.0440     5.0534     0.0000      0.1361      0.3087\n",
      "Sqrt_Total_Expenditure     1.5039     0.2578     5.8331     0.0000      0.9984      2.0094\n",
      "Sqrt_Diphteria             0.1692     0.0476     3.5539     0.0004      0.0758      0.2625\n",
      "Sqrt_HIV_AIDS              0.4766     0.1900     2.5084     0.0122      0.1040      0.8491\n",
      "Sqrt_GDP                   0.0018     0.0011     1.6435     0.1004     -0.0003      0.0040\n",
      "Sqrt_Schooling             3.9962     1.0772     3.7098     0.0002      1.8841      6.1083\n",
      "==========================================================================================\n"
     ]
    }
   ],
   "source": [
    "re_robust = re_model.fit(cov_type='clustered', cluster_entity=True)\n",
    "print(re_robust.summary)"
   ]
  },
  {
   "cell_type": "code",
   "execution_count": null,
   "id": "fd538477-995c-49be-a39f-8985b51c8ed0",
   "metadata": {},
   "outputs": [],
   "source": []
  }
 ],
 "metadata": {
  "kernelspec": {
   "display_name": "Python 3 (ipykernel)",
   "language": "python",
   "name": "python3"
  },
  "language_info": {
   "codemirror_mode": {
    "name": "ipython",
    "version": 3
   },
   "file_extension": ".py",
   "mimetype": "text/x-python",
   "name": "python",
   "nbconvert_exporter": "python",
   "pygments_lexer": "ipython3",
   "version": "3.13.2"
  }
 },
 "nbformat": 4,
 "nbformat_minor": 5
}
